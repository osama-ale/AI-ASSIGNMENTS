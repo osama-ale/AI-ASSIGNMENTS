{
 "cells": [
  {
   "cell_type": "markdown",
   "metadata": {},
   "source": [
    "## 1. Divisibility Check of two numbers\n",
    "\n",
    "Write a Python program to check whether a number is completely divisible by another number. Accept two integer values form the user\n",
    "##### Program Console Sample Output 1:\n",
    "Enter numerator: 4\n",
    "\n",
    "Enter Denominator: 2\n",
    "\n",
    "Number 4 is Completely divisible by 2\n",
    "###### Program Console Sample Output 2:\n",
    "Enter numerator: 7\n",
    "\n",
    "Enter Denominator: 4\n",
    "\n",
    "Number 7 is not Completely divisible by 4"
   ]
  },
  {
   "cell_type": "code",
   "execution_count": 1,
   "metadata": {},
   "outputs": [
    {
     "name": "stdout",
     "output_type": "stream",
     "text": [
      "enter the numenator : 4\n",
      "enter the denomenator : 2\n",
      "number 4 is completely divisible by 2\n",
      "enter the numenator : 7\n",
      "enter the denomenator : 4\n",
      "number 7 is not completely divisible by 4\n"
     ]
    }
   ],
   "source": [
    "for i in range(2):\n",
    "    \n",
    "    num = int(input(\"enter the numenator : \"))\n",
    "    den = int(input(\"enter the denomenator : \"))\n",
    "    if num%den ==0:\n",
    "        print(\"number\",num,\"is completely divisible by\",den)\n",
    "    else:\n",
    "        print(\"number\",num,\"is not completely divisible by\",den)"
   ]
  },
  {
   "cell_type": "markdown",
   "metadata": {},
   "source": [
    "## 2. Copy string n times\n",
    "Write a Python program to get a string which is n (non-negative integer) copies of a given string.\n",
    "##### Program Console Output:\n",
    "Enter String: Hi\n",
    "\n",
    "How many copies of String you need: 4\n",
    "\n",
    "4 Copies of Hi are HiHiHiHi"
   ]
  },
  {
   "cell_type": "code",
   "execution_count": 2,
   "metadata": {},
   "outputs": [
    {
     "name": "stdout",
     "output_type": "stream",
     "text": [
      "enter the string : hi\n",
      "how many times you want to make a copy of string ?4\n",
      "hihihihi "
     ]
    }
   ],
   "source": [
    "string = str(input(\"enter the string : \"))\n",
    "for i in range(1):\n",
    "    copy = int(input(\"how many times you want to make a copy of string ?\"))\n",
    "n = copy*string\n",
    "print(n,end = \" \")"
   ]
  },
  {
   "cell_type": "markdown",
   "metadata": {},
   "source": [
    "## 3. Vowel Tester\n",
    "Write a Python program to test whether a passed letter is a vowel or not\n",
    "#### Program Console Output 1:\n",
    "Enter a character: A\n",
    "\n",
    "Letter A is Vowel\n",
    "#### Program Console Output 2:\n",
    "Enter a character: e\n",
    "\n",
    "Letter e is Vowel\n",
    "#### Program Console Output 2:\n",
    "Enter a character: N\n",
    "Letter N is not Vowel"
   ]
  },
  {
   "cell_type": "code",
   "execution_count": 1,
   "metadata": {},
   "outputs": [
    {
     "name": "stdout",
     "output_type": "stream",
     "text": [
      "ENTER THE LETTER YOU WANNA CHECK IF IT IS VOWEL OR NOT A\n",
      "LETTER A is vowel\n",
      "ENTER THE LETTER YOU WANNA CHECK IF IT IS VOWEL OR NOT e\n",
      "LETTER e is vowel\n",
      "ENTER THE LETTER YOU WANNA CHECK IF IT IS VOWEL OR NOT N\n",
      "LETTER N is not vowel\n"
     ]
    }
   ],
   "source": [
    "vowel = 'AEIOUaeiou'\n",
    "for i in range(3):\n",
    "    \n",
    "    test = str(input(\"ENTER THE LETTER YOU WANNA CHECK IF IT IS VOWEL OR NOT \"))\n",
    "    if test in vowel:\n",
    "        print(\"LETTER\",test,\"is vowel\")\n",
    "    else:\n",
    "        print(\"LETTER\",test,\"is not vowel\")"
   ]
  },
  {
   "cell_type": "markdown",
   "metadata": {},
   "source": [
    "## 4. Odd No.s\n",
    "Use the third argument of the range() function to make a list of the odd numbers from 1 to 20. Use a for loop to print each number."
   ]
  },
  {
   "cell_type": "code",
   "execution_count": 3,
   "metadata": {},
   "outputs": [
    {
     "name": "stdout",
     "output_type": "stream",
     "text": [
      "1 3 5 7 9 11 13 15 17 19 "
     ]
    }
   ],
   "source": [
    "for i in range(1,20,2):\n",
    "    print(i,end=\" \")"
   ]
  },
  {
   "cell_type": "markdown",
   "metadata": {},
   "source": [
    "## 5. Food Slicing\n",
    "Make a python program that contains your nine favourite dishes in a list called foods.Print the message, \n",
    "\n",
    "**The first three items in the list are:**\n",
    "\n",
    "Then use a slice to print the first three items from that program’s list.Print the message, \n",
    "\n",
    "**Three items from the middle of the list are:**\n",
    "\n",
    "Use a slice to print three items from the middle of the list.Print the message, \n",
    "\n",
    "**The last three items in the list are:**\n",
    "\n",
    "Use a slice to print the last three items in the list."
   ]
  },
  {
   "cell_type": "code",
   "execution_count": 17,
   "metadata": {},
   "outputs": [
    {
     "name": "stdout",
     "output_type": "stream",
     "text": [
      "['biryani', 'quorma', 'tikka']\n",
      "['karhai', 'pulao', 'zinger']\n",
      "['role', 'pizza', 'nihari']\n"
     ]
    }
   ],
   "source": [
    "list = ['biryani','quorma','tikka','karhai','pulao','zinger','role','pizza','nihari']\n",
    "print(list[0:3])\n",
    "print(list[3:6])\n",
    "print(list[6:10])"
   ]
  },
  {
   "cell_type": "code",
   "execution_count": null,
   "metadata": {},
   "outputs": [],
   "source": []
  }
 ],
 "metadata": {
  "kernelspec": {
   "display_name": "Python 3",
   "language": "python",
   "name": "python3"
  },
  "language_info": {
   "codemirror_mode": {
    "name": "ipython",
    "version": 3
   },
   "file_extension": ".py",
   "mimetype": "text/x-python",
   "name": "python",
   "nbconvert_exporter": "python",
   "pygments_lexer": "ipython3",
   "version": "3.7.4"
  }
 },
 "nbformat": 4,
 "nbformat_minor": 2
}
